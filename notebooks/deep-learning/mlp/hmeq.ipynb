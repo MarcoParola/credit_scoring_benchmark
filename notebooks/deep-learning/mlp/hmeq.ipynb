{
 "cells": [
  {
   "cell_type": "markdown",
   "id": "d774a50c-27e9-4cd0-918a-631f71bd4dfd",
   "metadata": {},
   "source": [
    "# **MLP model for HMEQ Dataset**"
   ]
  },
  {
   "cell_type": "code",
   "execution_count": 1,
   "id": "be041103-d5e8-4512-9bf1-87d576ccc779",
   "metadata": {
    "tags": []
   },
   "outputs": [],
   "source": [
    "from src import utilities\n",
    "from src import pytorch\n",
    "from src import evaluation\n",
    "\n",
    "hmeq_dataset_path = '../../../datasets/preprocessed/hmeq/'"
   ]
  },
  {
   "cell_type": "code",
   "execution_count": 2,
   "id": "4bbaeaee-29af-45f5-8697-21ac711e50c7",
   "metadata": {
    "tags": []
   },
   "outputs": [],
   "source": [
    "features_scores = utilities.read_features_scores(hmeq_dataset_path)\n",
    "train_data = utilities.read_parquet(hmeq_dataset_path + 'train.parquet')\n",
    "test_data = utilities.read_parquet(hmeq_dataset_path + 'test.parquet')"
   ]
  },
  {
   "cell_type": "code",
   "execution_count": 3,
   "id": "b03a12b3-3eed-4ad0-b10d-d3d99f62531e",
   "metadata": {
    "tags": []
   },
   "outputs": [
    {
     "name": "stdout",
     "output_type": "stream",
     "text": [
      "Model save_path: ../../../models/2023-03-06_08-28-39\n"
     ]
    },
    {
     "name": "stderr",
     "output_type": "stream",
     "text": [
      "100%|██████████████████████████████████████████████████████████████████████████████████████████████████████████████████████████████████████████████████████| 100/100 [00:06<00:00, 16.47it/s]"
     ]
    },
    {
     "name": "stdout",
     "output_type": "stream",
     "text": [
      "Accuracy: 0.863\n"
     ]
    },
    {
     "name": "stderr",
     "output_type": "stream",
     "text": [
      "\n"
     ]
    }
   ],
   "source": [
    "# define the network\n",
    "model = pytorch.MLP(11)\n",
    "\n",
    "# train the model\n",
    "evaluation.k_fold_cross_validate(model, 5, train_data, test_data)"
   ]
  },
  {
   "cell_type": "code",
   "execution_count": null,
   "id": "a2af7423-77e0-4fba-87b2-68a882777c2c",
   "metadata": {},
   "outputs": [],
   "source": []
  }
 ],
 "metadata": {
  "kernelspec": {
   "display_name": "Python 3 (ipykernel)",
   "language": "python",
   "name": "python3"
  },
  "language_info": {
   "codemirror_mode": {
    "name": "ipython",
    "version": 3
   },
   "file_extension": ".py",
   "mimetype": "text/x-python",
   "name": "python",
   "nbconvert_exporter": "python",
   "pygments_lexer": "ipython3",
   "version": "3.10.9"
  }
 },
 "nbformat": 4,
 "nbformat_minor": 5
}
