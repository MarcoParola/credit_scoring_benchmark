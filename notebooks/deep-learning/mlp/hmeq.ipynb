{
 "cells": [
  {
   "cell_type": "markdown",
   "id": "d774a50c-27e9-4cd0-918a-631f71bd4dfd",
   "metadata": {},
   "source": [
    "# **MLP model for HMEQ Dataset**"
   ]
  },
  {
   "cell_type": "code",
   "execution_count": 1,
   "id": "be041103-d5e8-4512-9bf1-87d576ccc779",
   "metadata": {
    "tags": []
   },
   "outputs": [
    {
     "ename": "IndentationError",
     "evalue": "unexpected indent (evaluation.py, line 294)",
     "output_type": "error",
     "traceback": [
      "Traceback \u001b[0;36m(most recent call last)\u001b[0m:\n",
      "\u001b[0m  File \u001b[1;32m~/.local/lib/python3.9/site-packages/IPython/core/interactiveshell.py:3460\u001b[0m in \u001b[1;35mrun_code\u001b[0m\n    exec(code_obj, self.user_global_ns, self.user_ns)\u001b[0m\n",
      "\u001b[0;36m  Cell \u001b[0;32mIn[1], line 2\u001b[0;36m\n\u001b[0;31m    from src import evaluation\u001b[0;36m\n",
      "\u001b[0;36m  File \u001b[0;32m~/DevOps/credit_scoring_benchmark/src/evaluation.py:294\u001b[0;36m\u001b[0m\n\u001b[0;31m    model_precision_train, model_precision_val, model_recall_train,\u001b[0m\n\u001b[0m    ^\u001b[0m\n\u001b[0;31mIndentationError\u001b[0m\u001b[0;31m:\u001b[0m unexpected indent\n"
     ]
    }
   ],
   "source": [
    "from src import utilities\n",
    "from src import evaluation\n",
    "from src import tensorflow\n",
    "\n",
    "hmeq_dataset_path = '../../../datasets/preprocessed/hmeq/'"
   ]
  },
  {
   "cell_type": "code",
   "execution_count": null,
   "id": "b03a12b3-3eed-4ad0-b10d-d3d99f62531e",
   "metadata": {
    "tags": []
   },
   "outputs": [],
   "source": [
    "features_scores = utilities.read_features_scores(hmeq_dataset_path)\n",
    "train_data = utilities.read_parquet(hmeq_dataset_path + 'train.parquet')\n",
    "test_data = utilities.read_parquet(hmeq_dataset_path + 'test.parquet')\n",
    "\n",
    "# experiment model layers\n",
    "layers = [\n",
    "    tensorflow.input_layer((11,), dtype='float64'),\n",
    "    tensorflow.dense_layer(16, activation='relu'),\n",
    "    tensorflow.dense_layer(8, activation='relu'),\n",
    "    tensorflow.dense_layer(1, activation='sigmoid')\n",
    "]\n",
    "\n",
    "evaluation.k_fold_cross_validate(layers=layers, train_data=train_data, test_data=test_data,\n",
    "                      target='defaulted', k_folds=2, features_scores=features_scores,\n",
    "                      features=11, model_name='MLP', learning_rate=0.0001, epochs=10,\n",
    "                      batch_size=32, classes=['Non-Defaulted', 'Defaulted'], verbose=True)"
   ]
  },
  {
   "cell_type": "code",
   "execution_count": null,
   "id": "a2af7423-77e0-4fba-87b2-68a882777c2c",
   "metadata": {},
   "outputs": [],
   "source": []
  }
 ],
 "metadata": {
  "kernelspec": {
   "display_name": "Python 3 (ipykernel)",
   "language": "python",
   "name": "python3"
  },
  "language_info": {
   "codemirror_mode": {
    "name": "ipython",
    "version": 3
   },
   "file_extension": ".py",
   "mimetype": "text/x-python",
   "name": "python",
   "nbconvert_exporter": "python",
   "pygments_lexer": "ipython3",
   "version": "3.9.2"
  }
 },
 "nbformat": 4,
 "nbformat_minor": 5
}
